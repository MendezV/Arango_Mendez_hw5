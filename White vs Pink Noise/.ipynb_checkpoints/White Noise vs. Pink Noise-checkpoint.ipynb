{
 "metadata": {
  "name": "",
  "signature": "sha256:a7bb6b3d074ec6e606d0876d9d6ace86b6899f2bd7f61c0506ecd3704be4f30c"
 },
 "nbformat": 3,
 "nbformat_minor": 0,
 "worksheets": [
  {
   "cells": [
    {
     "cell_type": "heading",
     "level": 1,
     "metadata": {},
     "source": [
      "White Noise vs. Pink Noise"
     ]
    },
    {
     "cell_type": "code",
     "collapsed": false,
     "input": [
      "%pylab inline\n",
      "from scipy import fftpack\n",
      "from scipy.fftpack import fft, fftfreq\n",
      "from scipy.io import wavfile"
     ],
     "language": "python",
     "metadata": {},
     "outputs": [
      {
       "output_type": "stream",
       "stream": "stdout",
       "text": [
        "Populating the interactive namespace from numpy and matplotlib\n"
       ]
      },
      {
       "output_type": "stream",
       "stream": "stderr",
       "text": [
        "WARNING: pylab import has clobbered these variables: ['fftpack', 'fft']\n",
        "`%matplotlib` prevents importing * from pylab and numpy\n"
       ]
      }
     ],
     "prompt_number": 44
    },
    {
     "cell_type": "heading",
     "level": 5,
     "metadata": {},
     "source": [
      "Inicialmente de abre el archivo de audio, se hace su tranformada y se obtiene sus frecuencias "
     ]
    },
    {
     "cell_type": "code",
     "collapsed": false,
     "input": [
      "fs, sig = wavfile.read('voice.wav')\n",
      "a=(fft(sig)/len(sig))\n",
      "b=fftfreq(len(a),1)\n",
      "frecuencia=fftshift(b)\n",
      "fourier_sig=fftshift(a)\n",
      "mitad=ceil(len(a)/2)"
     ],
     "language": "python",
     "metadata": {},
     "outputs": [],
     "prompt_number": 45
    },
    {
     "cell_type": "heading",
     "level": 5,
     "metadata": {},
     "source": [
      "Se normaliza la tranformada de la se\u00f1al de audio, esto hace que su espectro de potencias sea plano, firma de la ruido blanco"
     ]
    },
    {
     "cell_type": "code",
     "collapsed": false,
     "input": [
      "ruido_blanco=fourier_sig/abs(fourier_sig)\n",
      "voz_blanca=10*ifft(ruido_blanco)\n",
      "wavfile.write('voz_blanca.wav', 44100, real(voz_blanca))"
     ],
     "language": "python",
     "metadata": {},
     "outputs": [],
     "prompt_number": 46
    },
    {
     "cell_type": "heading",
     "level": 5,
     "metadata": {},
     "source": [
      "Espectro de potencias"
     ]
    },
    {
     "cell_type": "code",
     "collapsed": false,
     "input": [
      "plot(frecuencia[mitad:],log10(abs(2.0*ruido_blanco[mitad:])**2))\n"
     ],
     "language": "python",
     "metadata": {},
     "outputs": [
      {
       "metadata": {},
       "output_type": "pyout",
       "prompt_number": 47,
       "text": [
        "[<matplotlib.lines.Line2D at 0x112ad8650>]"
       ]
      },
      {
       "metadata": {},
       "output_type": "display_data",
       "png": "[encoded data removed]",
       "text": [
        "<matplotlib.figure.Figure at 0x10eab30d0>"
       ]
      }
     ],
     "prompt_number": 47
    },
    {
     "cell_type": "heading",
     "level": 5,
     "metadata": {},
     "source": [
      "Se\u00f1al original en azul y la nueva en verde."
     ]
    },
    {
     "cell_type": "code",
     "collapsed": false,
     "input": [
      "plot(sig)\n",
      "plot(voz_blanca)\n"
     ],
     "language": "python",
     "metadata": {},
     "outputs": [
      {
       "metadata": {},
       "output_type": "pyout",
       "prompt_number": 48,
       "text": [
        "[<matplotlib.lines.Line2D at 0x11389b750>]"
       ]
      },
      {
       "metadata": {},
       "output_type": "display_data",
       "png": "[encoded data removed]",
       "text": [
        "<matplotlib.figure.Figure at 0x11389b650>"
       ]
      }
     ],
     "prompt_number": 48
    },
    {
     "cell_type": "heading",
     "level": 5,
     "metadata": {},
     "source": [
      "Se normaliza la tranformada de la se\u00f1al de audio, y se multiplica por el factor \n",
      "$$\n",
      "1.0000001^{100*f(maxima)/|f|}\n",
      "$$\n",
      ",esto hace que al hacerse el espectro de potencias, este quede con dependecia de las inversa frecuencias debido a las propiedades de los logaritmos\n"
     ]
    },
    {
     "cell_type": "code",
     "collapsed": false,
     "input": [
      "ruido_rosa=ruido_blanco*(1.0000001**(abs(1000*amax(frecuencia)/frecuencia)))\n",
      "ruido_rosa[88200]=0\n",
      "voz_rosa=1000*ifft(ruido_rosa)\n",
      "wavfile.write('voz_rosa.wav', 44100, real(voz_rosa))\n"
     ],
     "language": "python",
     "metadata": {},
     "outputs": [],
     "prompt_number": 49
    },
    {
     "cell_type": "heading",
     "level": 5,
     "metadata": {},
     "source": [
      "Espectro de potencias que decae con frecuencia"
     ]
    },
    {
     "cell_type": "code",
     "collapsed": false,
     "input": [
      "plot(frecuencia[mitad:],log10(abs(2.0*ruido_rosa[mitad:])**2))\n",
      "xlim(0,0.001)"
     ],
     "language": "python",
     "metadata": {},
     "outputs": [
      {
       "metadata": {},
       "output_type": "pyout",
       "prompt_number": 50,
       "text": [
        "(0, 0.001)"
       ]
      },
      {
       "metadata": {},
       "output_type": "display_data",
       "png": "[encoded data removed]",
       "text": [
        "<matplotlib.figure.Figure at 0x10eab6dd0>"
       ]
      }
     ],
     "prompt_number": 50
    },
    {
     "cell_type": "heading",
     "level": 5,
     "metadata": {},
     "source": [
      "La comparacion entre las se\u00f1ales, el ruido rosa se agrada para que se pueda hacer la comparacion."
     ]
    },
    {
     "cell_type": "code",
     "collapsed": false,
     "input": [
      "plot(sig)\n",
      "plot(1000000*voz_rosa)\n"
     ],
     "language": "python",
     "metadata": {},
     "outputs": [
      {
       "metadata": {},
       "output_type": "pyout",
       "prompt_number": 51,
       "text": [
        "[<matplotlib.lines.Line2D at 0x10eab6dd0>]"
       ]
      },
      {
       "metadata": {},
       "output_type": "display_data",
       "png": "[encoded data removed]",
       "text": [
        "<matplotlib.figure.Figure at 0x110fdbd90>"
       ]
      }
     ],
     "prompt_number": 51
    },
    {
     "cell_type": "heading",
     "level": 5,
     "metadata": {},
     "source": [
      "Analisis"
     ]
    },
    {
     "cell_type": "markdown",
     "metadata": {},
     "source": [
      "Se puede notar que para el ruido blanco todas las frecuencias tiene una suerte de homogeneidad en su amplitud, eso se ve que cuando se cambia la voz en el archivo no hay mayores cambios en el audio tranformado.\n",
      "Como el ruido rosa le da m\u00e1s potencia a ciertas frecuencias entonces en el ruido rosa no todas las frecuencias suena homogeneas y hay unas que resalta."
     ]
    },
    {
     "cell_type": "code",
     "collapsed": false,
     "input": [],
     "language": "python",
     "metadata": {},
     "outputs": [],
     "prompt_number": 51
    },
    {
     "cell_type": "code",
     "collapsed": false,
     "input": [],
     "language": "python",
     "metadata": {},
     "outputs": [],
     "prompt_number": 51
    }
   ],
   "metadata": {}
  }
 ]
}