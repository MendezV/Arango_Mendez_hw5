{
 "metadata": {
  "name": "",
  "signature": "sha256:7077ca016136bf4647c68a9c1ed4a11d5e01c901e6cd49638a15c8ab37a62a4d"
 },
 "nbformat": 3,
 "nbformat_minor": 0,
 "worksheets": [
  {
   "cells": [
    {
     "cell_type": "heading",
     "level": 1,
     "metadata": {},
     "source": [
      "White Noise vs. Pink Noise"
     ]
    },
    {
     "cell_type": "markdown",
     "metadata": {},
     "source": [
      "Por problemas de la libreria que se usa es posible que no corra bien la primera vez entonces se tiene que hacer una segunda vez"
     ]
    },
    {
     "cell_type": "code",
     "collapsed": false,
     "input": [
      "%pylab inline\n",
      "from scipy import fftpack\n",
      "from scipy.fftpack import fft, fftfreq\n",
      "from scipy.io import wavfile"
     ],
     "language": "python",
     "metadata": {},
     "outputs": [
      {
       "output_type": "stream",
       "stream": "stdout",
       "text": [
        "Populating the interactive namespace from numpy and matplotlib\n"
       ]
      },
      {
       "output_type": "stream",
       "stream": "stderr",
       "text": [
        "WARNING: pylab import has clobbered these variables: ['fftpack', 'fft']\n",
        "`%matplotlib` prevents importing * from pylab and numpy\n"
       ]
      }
     ],
     "prompt_number": 12
    },
    {
     "cell_type": "heading",
     "level": 5,
     "metadata": {},
     "source": [
      "Inicialmente de abre el archivo de audio, se hace su tranformada y se obtienen sus frecuencias "
     ]
    },
    {
     "cell_type": "code",
     "collapsed": false,
     "input": [
      "fs, sig = wavfile.read('voice.wav')\n",
      "a=(fft(sig)/len(sig))\n",
      "b=fftfreq(len(a),1)\n",
      "frecuencia=fftshift(b)\n",
      "fourier_sig=fftshift(a)\n",
      "mitad=ceil(len(a)/2)"
     ],
     "language": "python",
     "metadata": {},
     "outputs": [],
     "prompt_number": 13
    },
    {
     "cell_type": "heading",
     "level": 3,
     "metadata": {},
     "source": [
      "Ruido Blanco"
     ]
    },
    {
     "cell_type": "heading",
     "level": 5,
     "metadata": {},
     "source": [
      "Se normaliza la tranformada de la se\u00f1al de audio, esto hace que su espectro de potencias sea plano, firma de la ruido blanco"
     ]
    },
    {
     "cell_type": "code",
     "collapsed": false,
     "input": [
      "ruido_blanco=fourier_sig/abs(fourier_sig)\n",
      "voz_blanca=100*ifft(ruido_blanco)\n",
      "wavfile.write('voz_blanca.wav', 44100, real(voz_blanca))"
     ],
     "language": "python",
     "metadata": {},
     "outputs": [],
     "prompt_number": 14
    },
    {
     "cell_type": "heading",
     "level": 5,
     "metadata": {},
     "source": [
      "Espectro de potencias"
     ]
    },
    {
     "cell_type": "code",
     "collapsed": false,
     "input": [
      "plot(frecuencia[mitad:],log10(abs(2.0*ruido_blanco[mitad:])**2))\n"
     ],
     "language": "python",
     "metadata": {},
     "outputs": [
      {
       "metadata": {},
       "output_type": "pyout",
       "prompt_number": 15,
       "text": [
        "[<matplotlib.lines.Line2D at 0x10a40e490>]"
       ]
      },
      {
       "metadata": {},
       "output_type": "display_data",
       "png": "[encoded data removed]",
       "text": [
        "<matplotlib.figure.Figure at 0x10899b110>"
       ]
      }
     ],
     "prompt_number": 15
    },
    {
     "cell_type": "heading",
     "level": 5,
     "metadata": {},
     "source": [
      "Se\u00f1al original en azul y la nueva en verde, se agranda para que se puedan comparar"
     ]
    },
    {
     "cell_type": "code",
     "collapsed": false,
     "input": [
      "plot(sig)\n",
      "plot(100000000*voz_blanca)\n"
     ],
     "language": "python",
     "metadata": {},
     "outputs": [
      {
       "metadata": {},
       "output_type": "pyout",
       "prompt_number": 21,
       "text": [
        "[<matplotlib.lines.Line2D at 0x12df2c090>]"
       ]
      },
      {
       "metadata": {},
       "output_type": "display_data",
       "png": "[encoded data removed]",
       "text": [
        "<matplotlib.figure.Figure at 0x12df2c150>"
       ]
      }
     ],
     "prompt_number": 21
    },
    {
     "cell_type": "heading",
     "level": 3,
     "metadata": {},
     "source": [
      "Ruido Rosa"
     ]
    },
    {
     "cell_type": "heading",
     "level": 5,
     "metadata": {},
     "source": [
      "Se normaliza la tranformada de la se\u00f1al de audio, y se multiplica por el factor:"
     ]
    },
    {
     "cell_type": "heading",
     "level": 3,
     "metadata": {},
     "source": [
      "$$\n",
      "1.0000001^{\\frac{1250*f{maxima}}{|f|}}\n",
      "$$"
     ]
    },
    {
     "cell_type": "heading",
     "level": 5,
     "metadata": {},
     "source": [
      "Esto hace que al hacerse el espectro de potencias, este quede con dependecia de las inversa frecuencias debido a las propiedades de los logaritmos"
     ]
    },
    {
     "cell_type": "code",
     "collapsed": false,
     "input": [
      "ruido_rosa=ruido_blanco*(1.0000001**(abs(1250*amax(frecuencia)/frecuencia)))\n",
      "ruido_rosa[88200]=0\n",
      "voz_rosa=10*ifft(ruido_rosa)\n",
      "wavfile.write('voz_rosa.wav', 44100, real(voz_rosa))\n"
     ],
     "language": "python",
     "metadata": {},
     "outputs": [],
     "prompt_number": 69
    },
    {
     "cell_type": "heading",
     "level": 5,
     "metadata": {},
     "source": [
      "Espectro de potencias que decae con frecuencia"
     ]
    },
    {
     "cell_type": "code",
     "collapsed": false,
     "input": [
      "plot(frecuencia[mitad:],log10(abs(2.0*ruido_rosa[mitad:])**2))\n",
      "xlim(0,0.001)"
     ],
     "language": "python",
     "metadata": {},
     "outputs": [
      {
       "metadata": {},
       "output_type": "pyout",
       "prompt_number": 70,
       "text": [
        "(0, 0.001)"
       ]
      },
      {
       "metadata": {},
       "output_type": "display_data",
       "png": "[encoded data removed]",
       "text": [
        "<matplotlib.figure.Figure at 0x1b4df1290>"
       ]
      }
     ],
     "prompt_number": 70
    },
    {
     "cell_type": "heading",
     "level": 5,
     "metadata": {},
     "source": [
      "La comparacion entre las se\u00f1ales, el ruido rosa se agrada para que se pueda hacer la comparacion."
     ]
    },
    {
     "cell_type": "code",
     "collapsed": false,
     "input": [
      "plot(sig)\n",
      "plot(10000000*voz_rosa)\n"
     ],
     "language": "python",
     "metadata": {},
     "outputs": [
      {
       "metadata": {},
       "output_type": "pyout",
       "prompt_number": 71,
       "text": [
        "[<matplotlib.lines.Line2D at 0x1b9f66610>]"
       ]
      },
      {
       "metadata": {},
       "output_type": "display_data",
       "png": "[encoded data removed]",
       "text": [
        "<matplotlib.figure.Figure at 0x1b9f66750>"
       ]
      }
     ],
     "prompt_number": 71
    },
    {
     "cell_type": "heading",
     "level": 4,
     "metadata": {},
     "source": [
      "Se compara el ruido rosa con el ruido blanco"
     ]
    },
    {
     "cell_type": "code",
     "collapsed": false,
     "input": [
      "plot(voz_rosa)\n",
      "plot(voz_blanca)"
     ],
     "language": "python",
     "metadata": {},
     "outputs": [
      {
       "metadata": {},
       "output_type": "pyout",
       "prompt_number": 72,
       "text": [
        "[<matplotlib.lines.Line2D at 0x1b9fc9ad0>]"
       ]
      },
      {
       "metadata": {},
       "output_type": "display_data",
       "png": "[encoded data removed]",
       "text": [
        "<matplotlib.figure.Figure at 0x1b9fc9b90>"
       ]
      }
     ],
     "prompt_number": 72
    },
    {
     "cell_type": "heading",
     "level": 5,
     "metadata": {},
     "source": [
      "Analisis"
     ]
    },
    {
     "cell_type": "markdown",
     "metadata": {},
     "source": [
      "Se puede notar que para el ruido blanco todas las frecuencias tiene una suerte de homogeneidad en su amplitud, eso se ve que cuando se cambia la voz en el archivo no hay mayores cambios en el audio tranformado.\n",
      "Como el ruido rosa le da m\u00e1s potencia a ciertas frecuencias entonces en el ruido rosa no todas las frecuencias suena homogeneas y hay unas que resalta."
     ]
    }
   ],
   "metadata": {}
  }
 ]
}